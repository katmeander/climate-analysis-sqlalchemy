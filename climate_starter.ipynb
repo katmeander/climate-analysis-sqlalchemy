{
 "cells": [
  {
   "cell_type": "code",
   "execution_count": 1,
   "metadata": {},
   "outputs": [],
   "source": [
    "%matplotlib inline\n",
    "from matplotlib import style\n",
    "style.use('fivethirtyeight')\n",
    "import matplotlib.pyplot as plt"
   ]
  },
  {
   "cell_type": "code",
   "execution_count": 2,
   "metadata": {},
   "outputs": [],
   "source": [
    "import numpy as np\n",
    "import pandas as pd\n",
    "import datetime as dt"
   ]
  },
  {
   "cell_type": "markdown",
   "metadata": {},
   "source": [
    "# Reflect Tables into SQLAlchemy ORM"
   ]
  },
  {
   "cell_type": "code",
   "execution_count": 3,
   "metadata": {},
   "outputs": [],
   "source": [
    "# Python SQL toolkit and Object Relational Mapper\n",
    "import sqlalchemy\n",
    "from sqlalchemy.ext.automap import automap_base\n",
    "from sqlalchemy.orm import Session\n",
    "from sqlalchemy import create_engine, func"
   ]
  },
  {
   "cell_type": "code",
   "execution_count": 4,
   "metadata": {},
   "outputs": [],
   "source": [
    "# create engine to hawaii.sqlite\n",
    "engine = create_engine(\"sqlite:///Resources/hawaii.sqlite\")"
   ]
  },
  {
   "cell_type": "code",
   "execution_count": 5,
   "metadata": {},
   "outputs": [],
   "source": [
    "# reflect an existing database into a new model\n",
    "Base = automap_base()\n",
    "\n",
    "# reflect the tables\n",
    "Base.prepare(autoload_with=engine)"
   ]
  },
  {
   "cell_type": "code",
   "execution_count": 6,
   "metadata": {},
   "outputs": [
    {
     "data": {
      "text/plain": [
       "['measurement', 'station']"
      ]
     },
     "execution_count": 6,
     "metadata": {},
     "output_type": "execute_result"
    }
   ],
   "source": [
    "# View all of the classes that automap found\n",
    "Base.classes.keys()"
   ]
  },
  {
   "cell_type": "code",
   "execution_count": 7,
   "metadata": {},
   "outputs": [],
   "source": [
    "# Save references to each table\n",
    "Station = Base.classes.station\n",
    "Measurement = Base.classes.measurement"
   ]
  },
  {
   "cell_type": "code",
   "execution_count": 8,
   "metadata": {},
   "outputs": [],
   "source": [
    "# Create our session (link) from Python to the DB\n",
    "session = Session(engine)"
   ]
  },
  {
   "cell_type": "markdown",
   "metadata": {},
   "source": [
    "# Exploratory Precipitation Analysis"
   ]
  },
  {
   "cell_type": "code",
   "execution_count": 9,
   "metadata": {},
   "outputs": [
    {
     "data": {
      "text/plain": [
       "{'_sa_instance_state': <sqlalchemy.orm.state.InstanceState at 0x7ff48465c550>,\n",
       " 'station': 'USC00519397',\n",
       " 'latitude': 21.2716,\n",
       " 'elevation': 3.0,\n",
       " 'id': 1,\n",
       " 'name': 'WAIKIKI 717.2, HI US',\n",
       " 'longitude': -157.8168}"
      ]
     },
     "execution_count": 9,
     "metadata": {},
     "output_type": "execute_result"
    }
   ],
   "source": [
    "#take a look at what is in the Station table\n",
    "first_row = session.query(Station).first()\n",
    "first_row.__dict__"
   ]
  },
  {
   "cell_type": "code",
   "execution_count": 10,
   "metadata": {},
   "outputs": [
    {
     "data": {
      "text/plain": [
       "{'_sa_instance_state': <sqlalchemy.orm.state.InstanceState at 0x7ff485d9f4d0>,\n",
       " 'id': 1,\n",
       " 'station': 'USC00519397',\n",
       " 'prcp': 0.08,\n",
       " 'date': '2010-01-01',\n",
       " 'tobs': 65.0}"
      ]
     },
     "execution_count": 10,
     "metadata": {},
     "output_type": "execute_result"
    }
   ],
   "source": [
    "#take a look at what is in the Measurement table\n",
    "first_row = session.query(Measurement).first()\n",
    "first_row.__dict__"
   ]
  },
  {
   "cell_type": "code",
   "execution_count": 11,
   "metadata": {},
   "outputs": [
    {
     "name": "stdout",
     "output_type": "stream",
     "text": [
      "('2017-08-23',)\n"
     ]
    }
   ],
   "source": [
    "# Find the most recent date in the data set.\n",
    "recent_date = session.query(func.max(Measurement.date)).first()\n",
    "print(recent_date)"
   ]
  },
  {
   "cell_type": "code",
   "execution_count": 12,
   "metadata": {},
   "outputs": [
    {
     "data": {
      "image/png": "[encoded data removed]",
      "text/plain": [
       "<Figure size 640x480 with 1 Axes>"
      ]
     },
     "metadata": {},
     "output_type": "display_data"
    },
    {
     "data": {
      "text/plain": [
       "<Figure size 640x480 with 0 Axes>"
      ]
     },
     "metadata": {},
     "output_type": "display_data"
    }
   ],
   "source": [
    "# Design a query to retrieve the last 12 months of precipitation data and plot the results. \n",
    "# Starting from the most recent data point in the database. \n",
    "# Calculate the date one year from the last date in data set.\n",
    "year_from_recent = dt.date(2017, 8, 23) - dt.timedelta(days=365)\n",
    "\n",
    "# Perform a query to retrieve the data and precipitation scores\n",
    "last_year_prcp = session.query(Measurement.date, Measurement.prcp).filter(Measurement.date >= year_from_recent).all()\n",
    "\n",
    "# Save the query results as a Pandas DataFrame. Explicitly set the column names\n",
    "df = pd.DataFrame(last_year_prcp, columns=['Date', 'Precipitation'])\n",
    "\n",
    "# Sort the dataframe by date\n",
    "date = list(df['Date'])\n",
    "\n",
    "# Use Pandas Plotting with Matplotlib to plot the data\n",
    "precipitation = list(df['Precipitation'])\n",
    "df.plot.bar()\n",
    "plt.xlabel(\"Date\")\n",
    "plt.ylabel(\"Inches\")\n",
    "plt.show()\n",
    "plt.savefig(\"../Precipitation_by_date.png\")\n"
   ]
  },
  {
   "cell_type": "code",
   "execution_count": 13,
   "metadata": {},
   "outputs": [
    {
     "data": {
      "text/html": [
       "<div>\n",
       "<style scoped>\n",
       "    .dataframe tbody tr th:only-of-type {\n",
       "        vertical-align: middle;\n",
       "    }\n",
       "\n",
       "    .dataframe tbody tr th {\n",
       "        vertical-align: top;\n",
       "    }\n",
       "\n",
       "    .dataframe thead th {\n",
       "        text-align: right;\n",
       "    }\n",
       "</style>\n",
       "<table border=\"1\" class=\"dataframe\">\n",
       "  <thead>\n",
       "    <tr style=\"text-align: right;\">\n",
       "      <th></th>\n",
       "      <th>Precipitation</th>\n",
       "    </tr>\n",
       "  </thead>\n",
       "  <tbody>\n",
       "    <tr>\n",
       "      <th>count</th>\n",
       "      <td>2021.000000</td>\n",
       "    </tr>\n",
       "    <tr>\n",
       "      <th>mean</th>\n",
       "      <td>0.177279</td>\n",
       "    </tr>\n",
       "    <tr>\n",
       "      <th>std</th>\n",
       "      <td>0.461190</td>\n",
       "    </tr>\n",
       "    <tr>\n",
       "      <th>min</th>\n",
       "      <td>0.000000</td>\n",
       "    </tr>\n",
       "    <tr>\n",
       "      <th>25%</th>\n",
       "      <td>0.000000</td>\n",
       "    </tr>\n",
       "    <tr>\n",
       "      <th>50%</th>\n",
       "      <td>0.020000</td>\n",
       "    </tr>\n",
       "    <tr>\n",
       "      <th>75%</th>\n",
       "      <td>0.130000</td>\n",
       "    </tr>\n",
       "    <tr>\n",
       "      <th>max</th>\n",
       "      <td>6.700000</td>\n",
       "    </tr>\n",
       "  </tbody>\n",
       "</table>\n",
       "</div>"
      ],
      "text/plain": [
       "       Precipitation\n",
       "count    2021.000000\n",
       "mean        0.177279\n",
       "std         0.461190\n",
       "min         0.000000\n",
       "25%         0.000000\n",
       "50%         0.020000\n",
       "75%         0.130000\n",
       "max         6.700000"
      ]
     },
     "execution_count": 13,
     "metadata": {},
     "output_type": "execute_result"
    }
   ],
   "source": [
    "# Use Pandas to calculate the summary statistics for the precipitation data\n",
    "df.describe()"
   ]
  },
  {
   "cell_type": "markdown",
   "metadata": {},
   "source": [
    "# Exploratory Station Analysis"
   ]
  },
  {
   "cell_type": "code",
   "execution_count": 14,
   "metadata": {},
   "outputs": [
    {
     "name": "stdout",
     "output_type": "stream",
     "text": [
      "[(9,)]\n"
     ]
    }
   ],
   "source": [
    "# Design a query to calculate the total number of stations in the dataset\n",
    "num_stations = session.query(func.count(Station.station.distinct())).all()\n",
    "print(num_stations)"
   ]
  },
  {
   "cell_type": "code",
   "execution_count": 21,
   "metadata": {},
   "outputs": [
    {
     "data": {
      "text/plain": [
       "[('USC00519281', 2772),\n",
       " ('USC00519397', 2724),\n",
       " ('USC00513117', 2709),\n",
       " ('USC00519523', 2669),\n",
       " ('USC00516128', 2612),\n",
       " ('USC00514830', 2202),\n",
       " ('USC00511918', 1979),\n",
       " ('USC00517948', 1372),\n",
       " ('USC00518838', 511)]"
      ]
     },
     "execution_count": 21,
     "metadata": {},
     "output_type": "execute_result"
    }
   ],
   "source": [
    "# Design a query to find the most active stations (i.e. which stations have the most rows?)\n",
    "# List the stations and their counts in descending order.\n",
    "session.query(Measurement.station, func.count(Measurement.station)).\\\n",
    "    group_by(Measurement.station).order_by(func.count(Measurement.station).desc()).all()\n"
   ]
  },
  {
   "cell_type": "code",
   "execution_count": 27,
   "metadata": {},
   "outputs": [
    {
     "data": {
      "text/plain": [
       "('USC00519281', 12188, 2772)"
      ]
     },
     "execution_count": 27,
     "metadata": {},
     "output_type": "execute_result"
    }
   ],
   "source": [
    "active_station = session.query(Measurement.station, Measurement.id, func.count(Measurement.station)).\\\n",
    "    group_by(Measurement.station).order_by(func.count(Measurement.station).desc()).first()\n",
    "active_station"
   ]
  },
  {
   "cell_type": "code",
   "execution_count": 34,
   "metadata": {},
   "outputs": [
    {
     "name": "stdout",
     "output_type": "stream",
     "text": [
      "[('USC00519281', 71.66378066378067, 85.0, 54.0)]\n"
     ]
    }
   ],
   "source": [
    "# Using the most active station id from the previous query, calculate the lowest, highest, and average temperature.\n",
    "active_station = session.query(Measurement.station, Measurement.id, func.count(Measurement.station)).\\\n",
    "    group_by(Measurement.station).order_by(func.count(Measurement.station).desc()).first()\n",
    "\n",
    "sel = [Measurement.station,\n",
    "      func.avg(Measurement.tobs),\n",
    "      func.max(Measurement.tobs),\n",
    "      func.min(Measurement.tobs)]\n",
    "\n",
    "calc = session.query(*sel).\\\n",
    "    filter(Measurement.station == 'USC00519281').all()\n",
    "print(calc)"
   ]
  },
  {
   "cell_type": "code",
   "execution_count": 20,
   "metadata": {},
   "outputs": [
    {
     "name": "stdout",
     "output_type": "stream",
     "text": [
      "[('2016-08-23', 81.0), ('2016-08-24', 79.0), ('2016-08-25', 80.0), ('2016-08-26', 79.0), ('2016-08-27', 77.0), ('2016-08-28', 78.0), ('2016-08-29', 78.0), ('2016-08-30', 79.0), ('2016-08-31', 80.0), ('2016-09-01', 81.0), ('2016-09-02', 80.0), ('2016-09-03', 79.0), ('2016-09-04', 75.0), ('2016-09-05', 79.0), ('2016-09-06', 76.0), ('2016-09-07', 76.0), ('2016-09-08', 80.0), ('2016-09-09', 79.0), ('2016-09-10', 78.0), ('2016-09-11', 76.0), ('2016-09-12', 78.0), ('2016-09-13', 78.0), ('2016-09-14', 75.0), ('2016-09-15', 79.0), ('2016-09-16', 80.0), ('2016-09-17', 79.0), ('2016-09-18', 81.0), ('2016-09-19', 77.0), ('2016-09-20', 77.0), ('2016-09-21', 78.0), ('2016-09-22', 76.0), ('2016-09-23', 82.0), ('2016-09-24', 81.0), ('2016-09-25', 78.0), ('2016-09-26', 80.0), ('2016-09-27', 80.0), ('2016-09-28', 79.0), ('2016-09-29', 80.0), ('2016-09-30', 80.0), ('2016-10-01', 80.0), ('2016-10-02', 79.0), ('2016-10-03', 79.0), ('2016-10-04', 79.0), ('2016-10-05', 80.0), ('2016-10-06', 80.0), ('2016-10-07', 79.0), ('2016-10-08', 78.0), ('2016-10-09', 76.0), ('2016-10-10', 75.0), ('2016-10-11', 80.0), ('2016-10-12', 80.0), ('2016-10-13', 79.0), ('2016-10-14', 80.0), ('2016-10-15', 79.0), ('2016-10-16', 78.0), ('2016-10-17', 78.0), ('2016-10-18', 80.0), ('2016-10-19', 81.0), ('2016-10-20', 79.0), ('2016-10-21', 77.0), ('2016-10-22', 79.0), ('2016-10-23', 78.0), ('2016-10-24', 77.0), ('2016-10-25', 77.0), ('2016-10-26', 78.0), ('2016-10-27', 77.0), ('2016-10-28', 78.0), ('2016-10-29', 77.0), ('2016-10-30', 76.0), ('2016-10-31', 77.0), ('2016-11-01', 77.0), ('2016-11-02', 77.0), ('2016-11-03', 77.0), ('2016-11-04', 77.0), ('2016-11-05', 76.0), ('2016-11-06', 75.0), ('2016-11-07', 71.0), ('2016-11-08', 71.0), ('2016-11-09', 71.0), ('2016-11-10', 71.0), ('2016-11-11', 72.0), ('2016-11-12', 71.0), ('2016-11-13', 72.0), ('2016-11-14', 77.0), ('2016-11-15', 77.0), ('2016-11-16', 77.0), ('2016-11-17', 77.0), ('2016-11-18', 77.0), ('2016-11-19', 75.0), ('2016-11-20', 76.0), ('2016-11-21', 76.0), ('2016-11-22', 75.0), ('2016-11-23', 72.0), ('2016-11-24', 74.0), ('2016-11-25', 75.0), ('2016-11-26', 73.0), ('2016-11-27', 76.0), ('2016-11-28', 75.0), ('2016-11-29', 68.0), ('2016-11-30', 75.0), ('2016-12-01', 75.0), ('2016-12-02', 72.0), ('2016-12-03', 69.0), ('2016-12-04', 71.0), ('2016-12-05', 68.0), ('2016-12-06', 67.0), ('2016-12-07', 69.0), ('2016-12-08', 73.0), ('2016-12-09', 70.0), ('2016-12-10', 70.0), ('2016-12-11', 70.0), ('2016-12-12', 66.0), ('2016-12-13', 67.0), ('2016-12-14', 70.0), ('2016-12-15', 66.0), ('2016-12-16', 62.0), ('2016-12-17', 71.0), ('2016-12-18', 73.0), ('2016-12-19', 69.0), ('2016-12-20', 77.0), ('2016-12-21', 74.0), ('2016-12-22', 71.0), ('2016-12-23', 72.0), ('2016-12-24', 74.0), ('2016-12-25', 74.0), ('2016-12-26', 74.0), ('2016-12-27', 74.0), ('2016-12-28', 71.0), ('2016-12-29', 73.0), ('2016-12-30', 69.0), ('2016-12-31', 66.0), ('2017-01-01', 62.0), ('2017-01-02', 66.0), ('2017-01-03', 63.0), ('2017-01-04', 62.0), ('2017-01-05', 63.0), ('2017-01-06', 64.0), ('2017-01-07', 66.0), ('2017-01-08', 60.0), ('2017-01-09', 64.0), ('2017-01-10', 63.0), ('2017-01-11', 78.0), ('2017-01-12', 67.0), ('2017-01-13', 67.0), ('2017-01-14', 65.0), ('2017-01-15', 66.0), ('2017-01-16', 67.0), ('2017-01-17', 66.0), ('2017-01-18', 72.0), ('2017-01-19', 73.0), ('2017-01-20', 71.0), ('2017-01-21', 72.0), ('2017-01-22', 72.0), ('2017-01-23', 72.0), ('2017-01-24', 69.0), ('2017-01-25', 72.0), ('2017-01-26', 71.0), ('2017-01-27', 65.0), ('2017-01-28', 64.0), ('2017-01-29', 67.0), ('2017-01-30', 67.0), ('2017-01-31', 68.0), ('2017-02-01', 70.0), ('2017-02-02', 61.0), ('2017-02-03', 65.0), ('2017-02-04', 72.0), ('2017-02-05', 73.0), ('2017-02-06', 76.0), ('2017-02-07', 64.0), ('2017-02-08', 62.0), ('2017-02-09', 61.0), ('2017-02-10', 71.0), ('2017-02-11', 69.0), ('2017-02-12', 68.0), ('2017-02-13', 74.0), ('2017-02-14', 75.0), ('2017-02-15', 75.0), ('2017-02-16', 71.0), ('2017-02-17', 71.0), ('2017-02-18', 68.0), ('2017-02-19', 69.0), ('2017-02-20', 71.0), ('2017-02-21', 70.0), ('2017-02-22', 72.0), ('2017-02-23', 74.0), ('2017-02-24', 70.0), ('2017-02-25', 64.0), ('2017-02-26', 65.0), ('2017-02-27', 72.0), ('2017-02-28', 74.0), ('2017-03-01', 66.0), ('2017-03-02', 73.0), ('2017-03-03', 69.0), ('2017-03-04', 74.0), ('2017-03-05', 71.0), ('2017-03-06', 69.0), ('2017-03-07', 68.0), ('2017-03-08', 71.0), ('2017-03-09', 72.0), ('2017-03-10', 68.0), ('2017-03-11', 71.0), ('2017-03-12', 74.0), ('2017-03-13', 71.0), ('2017-03-14', 71.0), ('2017-03-15', 71.0), ('2017-03-16', 70.0), ('2017-03-17', 72.0), ('2017-03-18', 69.0), ('2017-03-19', 73.0), ('2017-03-20', 75.0), ('2017-03-21', 75.0), ('2017-03-22', 74.0), ('2017-03-23', 70.0), ('2017-03-24', 73.0), ('2017-03-25', 76.0), ('2017-03-26', 76.0), ('2017-03-27', 75.0), ('2017-03-28', 77.0), ('2017-03-29', 76.0), ('2017-03-30', 77.0), ('2017-03-31', 76.0), ('2017-04-01', 76.0), ('2017-04-02', 76.0), ('2017-04-03', 77.0), ('2017-04-04', 76.0), ('2017-04-05', 78.0), ('2017-04-06', 77.0), ('2017-04-07', 77.0), ('2017-04-08', 77.0), ('2017-04-09', 72.0), ('2017-04-10', 75.0), ('2017-04-11', 79.0), ('2017-04-12', 78.0), ('2017-04-13', 77.0), ('2017-04-14', 75.0), ('2017-04-15', 73.0), ('2017-04-16', 74.0), ('2017-04-17', 74.0), ('2017-04-18', 75.0), ('2017-04-19', 74.0), ('2017-04-20', 78.0), ('2017-04-21', 73.0), ('2017-04-22', 76.0), ('2017-04-23', 77.0), ('2017-04-24', 77.0), ('2017-04-25', 77.0), ('2017-04-26', 77.0), ('2017-04-27', 78.0), ('2017-04-28', 76.0), ('2017-04-29', 72.0), ('2017-04-30', 63.0), ('2017-05-01', 75.0), ('2017-05-02', 78.0), ('2017-05-03', 78.0), ('2017-05-04', 78.0), ('2017-05-05', 79.0), ('2017-05-06', 79.0), ('2017-05-07', 79.0), ('2017-05-08', 77.0), ('2017-05-10', 78.0), ('2017-05-11', 78.0), ('2017-05-12', 79.0), ('2017-05-13', 79.0), ('2017-05-14', 77.0), ('2017-05-15', 78.0), ('2017-05-16', 78.0), ('2017-05-17', 78.0), ('2017-05-18', 73.0), ('2017-05-19', 76.0), ('2017-05-20', 78.0), ('2017-05-21', 76.0), ('2017-05-22', 77.0), ('2017-05-23', 87.0), ('2017-05-24', 77.0), ('2017-05-25', 77.0), ('2017-05-27', 74.0), ('2017-05-28', 76.0), ('2017-05-29', 75.0), ('2017-05-30', 76.0), ('2017-05-31', 79.0), ('2017-06-01', 79.0), ('2017-06-02', 79.0), ('2017-06-03', 79.0), ('2017-06-04', 79.0), ('2017-06-05', 80.0), ('2017-06-06', 79.0), ('2017-06-07', 79.0), ('2017-06-08', 80.0), ('2017-06-09', 80.0), ('2017-06-10', 77.0), ('2017-06-11', 79.0), ('2017-06-12', 83.0), ('2017-06-13', 80.0), ('2017-06-14', 80.0), ('2017-06-15', 78.0), ('2017-06-16', 79.0), ('2017-06-17', 80.0), ('2017-06-18', 77.0), ('2017-06-19', 80.0), ('2017-06-20', 78.0), ('2017-06-21', 79.0), ('2017-06-22', 80.0), ('2017-06-23', 78.0), ('2017-06-24', 80.0), ('2017-06-25', 80.0), ('2017-06-26', 81.0), ('2017-06-27', 80.0), ('2017-06-28', 79.0), ('2017-06-29', 79.0), ('2017-06-30', 75.0), ('2017-07-01', 80.0), ('2017-07-02', 80.0), ('2017-07-03', 78.0), ('2017-07-04', 80.0), ('2017-07-05', 80.0), ('2017-07-06', 81.0), ('2017-07-07', 79.0), ('2017-07-08', 80.0), ('2017-07-09', 80.0), ('2017-07-10', 80.0), ('2017-07-11', 78.0), ('2017-07-12', 81.0), ('2017-07-13', 79.0), ('2017-07-14', 81.0), ('2017-07-15', 80.0), ('2017-07-16', 78.0), ('2017-07-17', 80.0), ('2017-07-18', 80.0), ('2017-07-20', 80.0), ('2017-07-21', 80.0), ('2017-07-22', 81.0), ('2017-07-23', 81.0), ('2017-07-24', 78.0), ('2017-07-25', 80.0), ('2017-07-26', 82.0), ('2017-07-27', 79.0), ('2017-07-28', 81.0), ('2017-07-29', 81.0), ('2017-07-30', 81.0), ('2017-07-31', 80.0), ('2017-08-01', 77.0), ('2017-08-02', 73.0), ('2017-08-03', 79.0), ('2017-08-04', 80.0), ('2017-08-05', 81.0), ('2017-08-06', 80.0), ('2017-08-07', 80.0), ('2017-08-08', 80.0), ('2017-08-09', 80.0), ('2017-08-10', 81.0), ('2017-08-11', 78.0), ('2017-08-12', 80.0), ('2017-08-13', 81.0), ('2017-08-14', 79.0), ('2017-08-15', 78.0), ('2017-08-18', 80.0), ('2017-08-19', 79.0), ('2017-08-20', 81.0), ('2017-08-21', 81.0), ('2017-08-22', 82.0), ('2017-08-23', 81.0), ('2016-08-23', 76.0), ('2016-08-24', 76.0), ('2016-08-25', 77.0), ('2016-08-26', 78.0), ('2016-08-27', 73.0), ('2016-08-28', 73.0), ('2016-08-29', 78.0), ('2016-08-30', 76.0), ('2016-08-31', 77.0), ('2016-09-01', 79.0), ('2016-09-02', 78.0), ('2016-09-03', 77.0), ('2016-09-04', 75.0), ('2016-09-05', 78.0), ('2016-09-06', 74.0), ('2016-09-07', 75.0), ('2016-09-08', 77.0), ('2016-09-09', 76.0), ('2016-09-10', 76.0), ('2016-09-11', 76.0), ('2016-09-12', 76.0), ('2016-09-13', 76.0), ('2016-09-14', 76.0), ('2016-09-15', 78.0), ('2016-09-16', 78.0), ('2016-09-17', 78.0), ('2016-09-18', 78.0), ('2016-09-19', 75.0), ('2016-09-20', 78.0), ('2016-09-21', 76.0), ('2016-09-22', 77.0), ('2016-09-23', 76.0), ('2016-09-24', 79.0), ('2016-09-25', 77.0), ('2016-09-26', 77.0), ('2016-09-27', 77.0), ('2016-09-28', 77.0), ('2016-09-29', 76.0), ('2016-09-30', 77.0), ('2016-10-01', 75.0), ('2016-10-02', 77.0), ('2016-10-03', 78.0), ('2016-10-04', 78.0), ('2016-10-05', 77.0), ('2016-10-06', 76.0), ('2016-10-07', 78.0), ('2016-10-08', 76.0), ('2016-10-09', 77.0), ('2016-10-10', 75.0), ('2016-10-11', 77.0), ('2016-10-12', 75.0), ('2016-10-13', 78.0), ('2016-10-14', 77.0), ('2016-10-15', 76.0), ('2016-10-16', 75.0), ('2016-10-17', 77.0), ('2016-10-18', 77.0), ('2016-10-19', 77.0), ('2016-10-20', 76.0), ('2016-10-21', 76.0), ('2016-10-22', 77.0), ('2016-10-23', 76.0), ('2016-10-24', 76.0), ('2016-10-25', 77.0), ('2016-10-26', 74.0), ('2016-10-27', 75.0), ('2016-10-28', 77.0), ('2016-10-29', 77.0), ('2016-10-30', 78.0), ('2016-10-31', 76.0), ('2016-11-01', 77.0), ('2016-11-02', 76.0), ('2016-11-03', 74.0), ('2016-11-04', 76.0), ('2016-11-05', 72.0), ('2016-11-06', 76.0), ('2016-11-07', 69.0), ('2016-11-08', 71.0), ('2016-11-09', 70.0), ('2016-11-10', 69.0), ('2016-11-11', 71.0), ('2016-11-12', 68.0), ('2016-11-13', 72.0), ('2016-11-14', 76.0), ('2016-11-15', 78.0), ('2016-11-16', 76.0), ('2016-11-17', 75.0), ('2016-11-18', 78.0), ('2016-11-19', 73.0), ('2016-11-20', 75.0), ('2016-11-21', 75.0), ('2016-11-22', 76.0), ('2016-11-23', 75.0), ('2016-11-24', 75.0), ('2016-11-25', 76.0), ('2016-11-26', 76.0), ('2016-11-27', 75.0), ('2016-11-28', 75.0), ('2016-11-29', 74.0), ('2016-11-30', 74.0), ('2016-12-01', 73.0), ('2016-12-02', 71.0), ('2016-12-03', 71.0), ('2016-12-04', 69.0), ('2016-12-05', 68.0), ('2016-12-06', 70.0), ('2016-12-07', 71.0), ('2016-12-08', 72.0), ('2016-12-09', 70.0), ('2016-12-10', 71.0), ('2016-12-11', 72.0), ('2016-12-12', 68.0), ('2016-12-13', 68.0), ('2016-12-14', 70.0), ('2016-12-15', 70.0), ('2016-12-16', 63.0), ('2016-12-17', 71.0), ('2016-12-18', 67.0), ('2016-12-19', 69.0), ('2016-12-20', 74.0), ('2016-12-21', 72.0), ('2016-12-22', 70.0), ('2016-12-23', 69.0), ('2016-12-24', 73.0), ('2016-12-25', 74.0), ('2016-12-26', 74.0), ('2016-12-27', 73.0), ('2016-12-28', 71.0), ('2016-12-29', 72.0), ('2016-12-30', 69.0), ('2016-12-31', 71.0), ('2017-01-01', 66.0), ('2017-01-02', 66.0), ('2017-01-03', 65.0), ('2017-01-04', 64.0), ('2017-01-05', 65.0), ('2017-01-06', 70.0), ('2017-01-07', 72.0), ('2017-01-08', 62.0), ('2017-01-09', 65.0), ('2017-01-10', 66.0), ('2017-01-11', 66.0), ('2017-01-12', 67.0), ('2017-01-13', 70.0), ('2017-01-14', 66.0), ('2017-01-15', 67.0), ('2017-01-16', 69.0), ('2017-01-17', 74.0), ('2017-01-18', 73.0), ('2017-01-19', 74.0), ('2017-01-20', 73.0), ('2017-01-21', 72.0), ('2017-01-22', 71.0), ('2017-01-23', 71.0), ('2017-01-24', 71.0), ('2017-01-25', 73.0), ('2017-01-26', 72.0), ('2017-01-27', 63.0), ('2017-01-28', 71.0), ('2017-01-29', 71.0), ('2017-01-30', 69.0), ('2017-01-31', 69.0), ('2017-02-01', 69.0), ('2017-02-02', 63.0), ('2017-02-03', 64.0), ('2017-02-04', 67.0), ('2017-02-05', 75.0), ('2017-02-06', 74.0), ('2017-02-07', 67.0), ('2017-02-08', 67.0), ('2017-02-09', 64.0), ('2017-02-10', 64.0), ('2017-02-11', 65.0), ('2017-02-12', 67.0), ('2017-02-13', 69.0), ('2017-02-14', 72.0), ('2017-02-15', 76.0), ('2017-02-16', 74.0), ('2017-02-17', 67.0), ('2017-02-18', 71.0), ('2017-02-19', 70.0), ('2017-02-20', 71.0), ('2017-02-21', 70.0), ('2017-02-22', 70.0), ('2017-02-23', 70.0), ('2017-02-24', 70.0), ('2017-02-25', 63.0), ('2017-02-26', 63.0), ('2017-02-27', 66.0), ('2017-02-28', 73.0), ('2017-03-01', 72.0), ('2017-03-02', 73.0), ('2017-03-03', 73.0), ('2017-03-04', 76.0), ('2017-03-05', 70.0), ('2017-03-06', 66.0), ('2017-03-07', 65.0), ('2017-03-08', 70.0), ('2017-03-09', 67.0), ('2017-03-10', 68.0), ('2017-03-11', 68.0), ('2017-03-12', 70.0), ('2017-03-13', 70.0), ('2017-03-14', 70.0), ('2017-03-15', 71.0), ('2017-03-16', 69.0), ('2017-03-17', 69.0), ('2017-03-18', 67.0), ('2017-03-19', 72.0), ('2017-03-20', 72.0), ('2017-03-21', 73.0), ('2017-03-22', 74.0), ('2017-03-23', 74.0), ('2017-03-24', 72.0), ('2017-03-25', 72.0), ('2017-03-26', 75.0), ('2017-03-27', 74.0), ('2017-03-28', 75.0), ('2017-03-29', 73.0), ('2017-03-30', 74.0), ('2017-03-31', 74.0), ('2017-04-01', 76.0), ('2017-04-02', 74.0), ('2017-04-03', 73.0), ('2017-04-04', 72.0), ('2017-04-05', 72.0), ('2017-04-06', 73.0), ('2017-04-07', 74.0), ('2017-04-08', 73.0), ('2017-04-09', 69.0), ('2017-04-10', 71.0), ('2017-04-11', 75.0), ('2017-04-12', 74.0), ('2017-04-13', 71.0), ('2017-04-14', 70.0), ('2017-04-15', 70.0), ('2017-04-16', 69.0), ('2017-04-17', 69.0), ('2017-04-18', 70.0), ('2017-04-19', 70.0), ('2017-04-20', 75.0), ('2017-04-21', 70.0), ('2017-04-22', 74.0), ('2017-04-23', 75.0), ('2017-04-24', 76.0), ('2017-04-25', 75.0), ('2017-04-26', 78.0), ('2017-04-27', 73.0), ('2017-04-28', 70.0), ('2017-04-29', 66.0), ('2017-04-30', 61.0), ('2017-05-01', 68.0), ('2017-05-02', 73.0), ('2017-05-03', 74.0), ('2017-05-04', 77.0), ('2017-05-05', 78.0), ('2017-05-06', 75.0), ('2017-05-07', 75.0), ('2017-05-08', 71.0), ('2017-05-09', 74.0), ('2017-05-10', 75.0), ('2017-05-11', 74.0), ('2017-05-12', 74.0), ('2017-05-13', 75.0), ('2017-05-14', 75.0), ('2017-05-15', 75.0), ('2017-05-16', 75.0), ('2017-05-17', 75.0), ('2017-05-18', 70.0), ('2017-05-19', 70.0), ('2017-05-20', 72.0), ('2017-05-21', 72.0), ('2017-05-22', 76.0), ('2017-05-23', 73.0), ('2017-05-24', 75.0), ('2017-05-25', 69.0), ('2017-05-26', 73.0), ('2017-05-27', 69.0), ('2017-05-28', 71.0), ('2017-05-29', 71.0), ('2017-05-30', 74.0), ('2017-05-31', 76.0), ('2017-06-01', 76.0), ('2017-06-02', 76.0), ('2017-06-03', 76.0), ('2017-06-04', 78.0), ('2017-06-05', 76.0), ('2017-06-06', 75.0), ('2017-06-07', 75.0), ('2017-06-08', 76.0), ('2017-06-09', 78.0), ('2017-06-10', 75.0), ('2017-06-11', 73.0), ('2017-06-12', 76.0), ('2017-06-13', 76.0), ('2017-06-14', 76.0), ('2017-06-15', 77.0), ('2017-06-16', 76.0), ('2017-06-17', 77.0), ('2017-06-18', 72.0), ('2017-06-19', 77.0), ('2017-06-20', 75.0), ('2017-06-21', 82.0), ('2017-06-22', 77.0), ('2017-06-23', 76.0), ('2017-06-24', 74.0), ('2017-06-25', 73.0), ('2017-06-26', 77.0), ('2017-06-27', 77.0), ('2017-06-28', 77.0), ('2017-06-29', 76.0), ('2017-06-30', 74.0), ('2017-07-01', 76.0), ('2017-07-02', 77.0), ('2017-07-03', 77.0), ('2017-07-04', 77.0), ('2017-07-05', 77.0), ('2017-07-06', 76.0), ('2017-07-07', 77.0), ('2017-07-08', 76.0), ('2017-07-09', 76.0), ('2017-07-10', 79.0), ('2017-07-11', 76.0), ('2017-07-12', 78.0), ('2017-07-13', 76.0), ('2017-07-14', 80.0), ('2017-07-15', 79.0), ('2017-07-16', 76.0), ('2017-07-17', 75.0), ('2017-07-18', 78.0), ('2017-07-19', 78.0), ('2017-07-20', 78.0), ('2017-07-21', 78.0), ('2017-07-22', 78.0), ('2017-07-23', 75.0), ('2017-07-24', 78.0), ('2017-07-25', 78.0), ('2017-07-26', 78.0), ('2017-07-27', 77.0), ('2017-07-28', 77.0), ('2017-07-29', 78.0), ('2017-07-30', 78.0), ('2017-07-31', 77.0), ('2016-08-23', 80.0), ('2016-08-24', 80.0), ('2016-08-25', 81.0), ('2016-08-26', 81.0), ('2016-08-27', 81.0), ('2016-08-28', 81.0), ('2016-08-29', 80.0), ('2016-08-31', 80.0), ('2016-09-01', 82.0), ('2016-09-02', 81.0), ('2016-09-05', 82.0), ('2016-09-06', 80.0), ('2016-09-07', 80.0), ('2016-09-08', 81.0), ('2016-09-09', 77.0), ('2016-09-12', 79.0), ('2016-09-13', 79.0), ('2016-09-14', 79.0), ('2016-09-15', 81.0), ('2016-09-16', 79.0), ('2016-09-19', 79.0), ('2016-09-20', 80.0), ('2016-09-21', 80.0), ('2016-09-22', 78.0), ('2016-09-23', 81.0), ('2016-09-24', 82.0), ('2016-09-25', 82.0), ('2016-09-26', 80.0), ('2016-09-27', 79.0), ('2016-09-28', 80.0), ('2016-09-29', 79.0), ('2016-09-30', 80.0), ('2016-10-01', 80.0), ('2016-10-02', 80.0), ('2016-10-03', 80.0), ('2016-10-04', 81.0), ('2016-10-05', 80.0), ('2016-10-06', 80.0), ('2016-10-07', 79.0), ('2016-10-10', 77.0), ('2016-10-11', 80.0), ('2016-10-12', 80.0), ('2016-10-13', 81.0), ('2016-10-14', 79.0), ('2016-10-15', 81.0), ('2016-10-17', 78.0), ('2016-10-18', 80.0), ('2016-10-19', 79.0), ('2016-10-20', 77.0), ('2016-10-21', 78.0), ('2016-10-23', 80.0), ('2016-10-24', 77.0), ('2016-10-25', 81.0), ('2016-10-27', 78.0), ('2016-10-28', 78.0), ('2016-10-29', 76.0), ('2016-10-30', 78.0), ('2016-10-31', 77.0), ('2016-11-01', 77.0), ('2016-11-02', 78.0), ('2016-11-03', 77.0), ('2016-11-04', 77.0), ('2016-11-05', 77.0), ('2016-11-06', 78.0), ('2016-11-07', 72.0), ('2016-11-08', 73.0), ('2016-11-09', 74.0), ('2016-11-10', 75.0), ('2016-11-11', 77.0), ('2016-11-12', 78.0), ('2016-11-13', 78.0), ('2016-11-14', 79.0), ('2016-11-15', 77.0), ('2016-11-16', 78.0), ('2016-11-17', 77.0), ('2016-11-22', 76.0), ('2016-11-25', 74.0), ('2016-11-26', 78.0), ('2016-11-27', 76.0), ('2016-11-28', 76.0), ('2016-11-29', 75.0), ('2016-11-30', 76.0), ('2016-12-01', 75.0), ('2016-12-02', 77.0), ('2016-12-03', 75.0), ('2016-12-04', 77.0), ('2016-12-05', 76.0), ('2016-12-07', 76.0), ('2016-12-08', 75.0), ('2016-12-09', 72.0), ('2016-12-10', 76.0), ('2016-12-12', 75.0), ('2016-12-13', 72.0), ('2016-12-14', 72.0), ('2016-12-15', 75.0), ('2016-12-16', 69.0), ('2016-12-17', 75.0), ('2016-12-18', 74.0), ('2016-12-19', 78.0), ('2016-12-20', 77.0), ('2016-12-21', 76.0), ('2016-12-22', 72.0), ('2016-12-23', 73.0), ('2016-12-24', 74.0), ('2016-12-26', 74.0), ('2016-12-27', 74.0), ('2016-12-28', 73.0), ('2016-12-29', 73.0), ('2016-12-30', 71.0), ('2016-12-31', 72.0), ('2017-01-01', 74.0), ('2017-01-02', 74.0), ('2017-01-03', 70.0), ('2017-01-04', 71.0), ('2017-01-05', 72.0), ('2017-01-06', 71.0), ('2017-01-07', 71.0), ('2017-01-08', 74.0), ('2017-01-09', 72.0), ('2017-01-10', 72.0), ('2017-01-11', 76.0), ('2017-01-13', 75.0), ('2017-01-14', 77.0), ('2017-01-16', 76.0), ('2017-01-17', 75.0), ('2017-01-18', 75.0), ('2017-01-19', 77.0), ('2017-01-20', 74.0), ('2017-01-21', 73.0), ('2017-01-23', 75.0), ('2017-01-25', 73.0), ('2017-01-26', 74.0), ('2017-01-27', 74.0), ('2017-01-28', 76.0), ('2017-01-30', 71.0), ('2017-01-31', 70.0), ('2017-02-01', 72.0), ('2017-02-02', 72.0), ('2017-02-03', 73.0), ('2017-02-05', 80.0), ('2017-02-06', 77.0), ('2017-02-07', 76.0), ('2017-02-08', 67.0), ('2017-02-09', 71.0), ('2017-02-10', 73.0), ('2017-02-11', 69.0), ('2017-02-12', 76.0), ('2017-02-13', 80.0), ('2017-02-14', 79.0), ('2017-02-15', 76.0), ('2017-02-16', 73.0), ('2017-02-17', 77.0), ('2017-02-20', 72.0), ('2017-02-21', 71.0), ('2017-02-22', 72.0), ('2017-02-23', 75.0), ('2017-02-24', 71.0), ('2017-02-26', 75.0), ('2017-02-27', 71.0), ('2017-02-28', 73.0), ('2017-03-01', 71.0), ('2017-03-03', 73.0), ('2017-03-06', 74.0), ('2017-03-07', 74.0), ('2017-03-08', 74.0), ('2017-03-09', 69.0), ('2017-03-10', 75.0), ('2017-03-12', 80.0), ('2017-03-13', 77.0), ('2017-03-14', 77.0), ('2017-03-16', 77.0), ('2017-03-17', 72.0), ('2017-03-18', 76.0), ('2017-03-20', 77.0), ('2017-03-21', 76.0), ('2017-03-22', 76.0), ('2017-03-23', 78.0), ('2017-03-24', 75.0), ('2017-03-27', 78.0), ('2017-03-28', 78.0), ('2017-03-29', 77.0), ('2017-03-30', 78.0), ('2017-03-31', 77.0), ('2017-04-01', 78.0), ('2017-04-02', 77.0), ('2017-04-03', 77.0), ('2017-04-04', 76.0), ('2017-04-05', 77.0), ('2017-04-06', 76.0), ('2017-04-07', 76.0), ('2017-04-09', 77.0), ('2017-04-10', 79.0), ('2017-04-11', 77.0), ('2017-04-12', 77.0), ('2017-04-13', 77.0), ('2017-04-14', 77.0), ('2017-04-17', 69.0), ('2017-04-18', 76.0), ('2017-04-19', 83.0), ('2017-04-20', 74.0), ('2017-04-21', 70.0), ('2017-04-22', 74.0), ('2017-04-24', 79.0), ('2017-04-25', 77.0), ('2017-04-26', 78.0), ('2017-04-27', 78.0), ('2017-04-28', 77.0), ('2017-04-29', 71.0), ('2017-04-30', 63.0), ('2017-05-01', 78.0), ('2017-05-02', 76.0), ('2017-05-03', 78.0), ('2017-05-04', 77.0), ('2017-05-05', 78.0), ('2017-05-06', 78.0), ('2017-05-08', 73.0), ('2017-05-09', 79.0), ('2017-05-10', 76.0), ('2017-05-12', 78.0), ('2017-05-15', 77.0), ('2017-05-16', 77.0), ('2017-05-17', 78.0), ('2017-05-18', 78.0), ('2017-05-19', 79.0), ('2017-05-20', 79.0), ('2017-05-22', 79.0), ('2017-05-23', 78.0), ('2017-05-24', 76.0), ('2017-05-25', 79.0), ('2017-05-26', 79.0), ('2017-05-27', 79.0), ('2017-05-28', 77.0), ('2017-05-29', 79.0), ('2017-05-30', 81.0), ('2017-05-31', 81.0), ('2017-06-01', 81.0), ('2017-06-02', 78.0), ('2017-06-03', 80.0), ('2017-06-04', 79.0), ('2017-06-05', 81.0), ('2017-06-06', 80.0), ('2017-06-07', 81.0), ('2017-06-08', 79.0), ('2017-06-09', 81.0), ('2017-06-10', 78.0), ('2017-06-11', 79.0), ('2017-06-12', 79.0), ('2017-06-13', 75.0), ('2017-06-14', 79.0), ('2017-06-15', 78.0), ('2017-06-16', 80.0), ('2017-06-17', 78.0), ('2017-06-18', 77.0), ('2017-06-19', 78.0), ('2017-06-20', 79.0), ('2017-06-23', 76.0), ('2017-06-26', 80.0), ('2017-06-29', 76.0), ('2017-06-30', 81.0), ('2017-07-03', 81.0), ('2017-07-05', 81.0), ('2017-07-07', 77.0), ('2017-07-08', 81.0), ('2017-07-09', 82.0), ('2017-07-10', 80.0), ('2017-07-11', 79.0), ('2017-07-12', 81.0), ('2017-07-13', 81.0), ('2017-07-14', 80.0), ('2017-07-15', 82.0), ('2017-07-16', 79.0), ('2017-07-17', 82.0), ('2017-07-18', 82.0), ('2017-07-19', 80.0), ('2017-07-20', 79.0), ('2017-07-21', 79.0), ('2017-07-22', 80.0), ('2017-07-23', 82.0), ('2017-07-24', 79.0), ('2017-07-25', 80.0), ('2017-07-26', 79.0), ('2017-07-27', 80.0), ('2017-07-28', 81.0), ('2017-07-29', 82.0), ('2017-07-31', 81.0), ('2017-08-01', 74.0), ('2017-08-02', 80.0), ('2017-08-03', 81.0), ('2017-08-04', 81.0), ('2017-08-06', 82.0), ('2017-08-07', 81.0), ('2017-08-08', 78.0), ('2017-08-09', 81.0), ('2017-08-10', 81.0), ('2017-08-11', 81.0), ('2017-08-13', 81.0), ('2017-08-14', 81.0), ('2017-08-15', 82.0), ('2017-08-16', 82.0), ('2017-08-17', 78.0), ('2017-08-18', 77.0), ('2017-08-19', 80.0), ('2017-08-20', 80.0), ('2017-08-21', 79.0), ('2017-08-23', 82.0), ('2016-08-23', 80.0), ('2016-08-24', 78.0), ('2016-08-25', 81.0), ('2016-08-26', 81.0), ('2016-08-29', 80.0), ('2016-08-30', 79.0), ('2016-08-31', 79.0), ('2016-09-01', 82.0), ('2016-09-02', 81.0), ('2016-09-08', 80.0), ('2016-09-09', 79.0), ('2016-09-12', 79.0), ('2016-09-13', 79.0), ('2016-09-14', 76.0), ('2016-09-15', 76.0), ('2016-09-16', 79.0), ('2016-09-19', 79.0), ('2016-09-20', 73.0), ('2016-09-22', 76.0), ('2016-09-23', 80.0), ('2016-09-26', 78.0), ('2016-09-28', 79.0), ('2016-09-29', 80.0), ('2016-09-30', 80.0), ('2016-10-03', 79.0), ('2016-10-04', 77.0), ('2016-10-05', 80.0), ('2016-10-06', 79.0), ('2016-10-07', 78.0), ('2016-10-11', 79.0), ('2016-10-13', 80.0), ('2016-10-17', 80.0), ('2016-10-18', 80.0), ('2016-10-19', 80.0), ('2016-10-20', 78.0), ('2016-10-21', 76.0), ('2016-10-24', 76.0), ('2016-10-25', 77.0), ('2016-10-26', 73.0), ('2016-10-27', 77.0), ('2016-10-28', 76.0), ('2016-10-31', 75.0), ('2016-11-04', 77.0), ('2016-11-07', 75.0), ('2016-11-09', 76.0), ('2016-11-14', 79.0), ('2016-11-15', 77.0), ('2016-11-16', 77.0), ('2016-11-17', 77.0), ('2016-11-18', 75.0), ('2016-11-21', 73.0), ('2016-11-22', 76.0), ('2016-11-23', 77.0), ('2016-11-28', 76.0), ('2016-11-29', 74.0), ('2016-11-30', 75.0), ('2016-12-01', 72.0), ('2016-12-02', 70.0), ('2016-12-05', 68.0), ('2016-12-06', 74.0), ('2016-12-07', 71.0), ('2016-12-08', 70.0), ('2016-12-09', 70.0), ('2016-12-12', 70.0), ('2016-12-13', 68.0), ('2016-12-14', 68.0), ('2016-12-15', 68.0), ('2016-12-16', 66.0), ('2016-12-19', 71.0), ('2016-12-20', 76.0), ('2016-12-21', 73.0), ('2016-12-22', 70.0), ('2016-12-23', 68.0), ('2016-12-28', 71.0), ('2016-12-29', 71.0), ('2016-12-30', 68.0), ('2017-01-09', 65.0), ('2017-01-10', 65.0), ('2017-01-11', 67.0), ('2017-01-12', 67.0), ('2017-01-13', 68.0), ('2017-01-17', 70.0), ('2017-01-18', 73.0), ('2017-01-19', 66.0), ('2017-01-20', 70.0), ('2017-01-23', 77.0), ('2017-01-24', 69.0), ('2017-01-25', 69.0), ('2017-01-26', 70.0), ('2017-01-27', 65.0), ('2017-01-30', 68.0), ('2017-01-31', 68.0), ('2017-02-01', 62.0), ('2017-02-02', 70.0), ('2017-02-03', 72.0), ('2017-02-06', 76.0), ('2017-02-07', 67.0), ('2017-02-08', 64.0), ('2017-02-09', 64.0), ('2017-02-10', 64.0), ('2017-02-13', 77.0), ('2017-02-14', 76.0), ('2017-02-15', 73.0), ('2017-02-16', 70.0), ('2017-02-17', 69.0), ('2017-02-21', 71.0), ('2017-02-22', 72.0), ('2017-02-23', 72.0), ('2017-02-24', 68.0), ('2017-02-27', 69.0), ('2017-02-28', 72.0), ('2017-03-01', 66.0), ('2017-03-02', 73.0), ('2017-03-03', 70.0), ('2017-03-06', 67.0), ('2017-03-07', 67.0), ('2017-03-08', 67.0), ('2017-03-09', 68.0), ('2017-03-10', 68.0), ('2017-03-13', 69.0), ('2017-03-14', 73.0), ('2017-03-15', 75.0), ('2017-03-16', 71.0), ('2017-03-17', 72.0), ('2017-03-28', 73.0), ('2017-03-29', 74.0), ('2017-03-30', 77.0), ('2017-03-31', 78.0), ('2017-04-03', 75.0), ('2017-04-04', 75.0), ('2017-04-05', 73.0), ('2017-04-06', 73.0), ('2017-04-07', 76.0), ('2017-04-10', 75.0), ('2017-04-11', 76.0), ('2017-04-12', 74.0), ('2017-04-13', 76.0), ('2017-04-17', 72.0), ('2017-04-18', 75.0), ('2017-04-19', 76.0), ('2017-04-20', 75.0), ('2017-04-21', 74.0), ('2017-04-24', 78.0), ('2017-04-25', 78.0), ('2017-04-27', 78.0), ('2017-04-28', 76.0), ('2017-06-02', 79.0), ('2017-06-05', 78.0), ('2017-06-06', 80.0), ('2017-06-07', 80.0), ('2017-06-08', 78.0), ('2017-06-09', 80.0), ('2017-06-13', 81.0), ('2017-06-14', 78.0), ('2017-06-15', 77.0), ('2017-06-16', 78.0), ('2017-06-19', 78.0), ('2017-06-20', 77.0), ('2017-06-21', 76.0), ('2017-06-22', 81.0), ('2017-06-23', 76.0), ('2017-06-26', 82.0), ('2017-06-27', 80.0), ('2017-06-28', 80.0), ('2017-06-29', 79.0), ('2017-06-30', 74.0), ('2017-07-03', 87.0), ('2017-07-05', 80.0), ('2017-07-06', 79.0), ('2017-07-07', 79.0), ('2017-07-10', 78.0), ('2017-07-11', 81.0), ('2017-07-12', 80.0), ('2017-07-13', 81.0), ('2017-07-18', 78.0), ('2017-07-19', 81.0), ('2017-07-20', 80.0), ('2017-07-21', 81.0), ('2017-07-25', 81.0), ('2017-07-26', 78.0), ('2017-07-27', 79.0), ('2017-07-28', 80.0), ('2017-07-31', 81.0), ('2016-08-23', 80.0), ('2016-08-24', 79.0), ('2016-08-25', 80.0), ('2016-08-26', 84.0), ('2016-08-27', 81.0), ('2016-08-28', 80.0), ('2016-08-29', 79.0), ('2016-08-30', 78.0), ('2016-08-31', 78.0), ('2016-09-02', 81.0), ('2016-09-03', 78.0), ('2016-09-04', 84.0), ('2016-09-05', 84.0), ('2016-09-06', 78.0), ('2016-09-07', 76.0), ('2016-09-08', 79.0), ('2016-09-09', 77.0), ('2016-09-10', 78.0), ('2016-09-11', 83.0), ('2016-09-12', 78.0), ('2016-09-13', 77.0), ('2016-09-14', 77.0), ('2016-09-15', 79.0), ('2016-09-16', 78.0), ('2016-09-17', 81.0), ('2016-09-18', 81.0), ('2016-09-19', 78.0), ('2016-09-20', 77.0), ('2016-09-21', 79.0), ('2016-09-22', 79.0), ('2016-09-23', 80.0), ('2016-09-24', 83.0), ('2016-09-25', 82.0), ('2016-09-26', 78.0), ('2016-09-27', 78.0), ('2016-09-28', 78.0), ('2016-09-29', 82.0), ('2016-09-30', 78.0), ('2016-10-01', 79.0), ('2016-10-02', 81.0), ('2016-10-03', 79.0), ('2016-10-04', 80.0), ('2016-10-05', 80.0), ('2016-10-06', 80.0), ('2016-10-07', 79.0), ('2016-10-08', 82.0), ('2016-10-09', 80.0), ('2016-10-10', 78.0), ('2016-10-11', 81.0), ('2016-10-12', 81.0), ('2016-10-13', 79.0), ('2016-10-14', 80.0), ('2016-10-15', 79.0), ('2016-10-16', 81.0), ('2016-10-17', 80.0), ('2016-10-18', 80.0), ('2016-10-19', 78.0), ('2016-10-21', 79.0), ('2016-10-22', 80.0), ('2016-10-23', 81.0), ('2016-10-24', 75.0), ('2016-10-25', 77.0), ('2016-10-26', 78.0), ('2016-10-27', 78.0), ('2016-10-28', 78.0), ('2016-10-29', 78.0), ('2016-10-30', 79.0), ('2016-10-31', 78.0), ('2016-11-01', 79.0), ('2016-11-02', 76.0), ('2016-11-03', 77.0), ('2016-11-04', 76.0), ('2016-11-05', 78.0), ('2016-11-06', 78.0), ('2016-11-07', 76.0), ('2016-11-08', 77.0), ('2016-11-09', 75.0), ('2016-11-10', 72.0), ('2016-11-11', 73.0), ('2016-11-12', 79.0), ('2016-11-13', 79.0), ('2016-11-14', 78.0), ('2016-11-15', 77.0), ('2016-11-16', 77.0), ('2016-11-17', 77.0), ('2016-11-18', 77.0), ('2016-11-19', 76.0), ('2016-11-20', 80.0), ('2016-11-21', 75.0), ('2016-11-22', 76.0), ('2016-11-23', 75.0), ('2016-11-24', 75.0), ('2016-11-25', 76.0), ('2016-11-26', 78.0), ('2016-11-27', 78.0), ('2016-11-28', 77.0), ('2016-11-29', 76.0), ('2016-11-30', 76.0), ('2016-12-01', 76.0), ('2016-12-02', 75.0), ('2016-12-03', 75.0), ('2016-12-04', 75.0), ('2016-12-05', 70.0), ('2016-12-06', 70.0), ('2016-12-07', 74.0), ('2016-12-08', 73.0), ('2016-12-10', 72.0), ('2016-12-11', 78.0), ('2016-12-12', 67.0), ('2016-12-13', 69.0), ('2016-12-14', 71.0), ('2016-12-15', 74.0), ('2016-12-16', 63.0), ('2016-12-17', 76.0), ('2016-12-18', 76.0), ('2016-12-19', 71.0), ('2016-12-20', 76.0), ('2016-12-21', 77.0), ('2016-12-22', 73.0), ('2016-12-23', 71.0), ('2016-12-24', 78.0), ('2016-12-25', 78.0), ('2016-12-26', 75.0), ('2016-12-27', 75.0), ('2016-12-28', 72.0), ('2016-12-29', 77.0), ('2016-12-30', 72.0), ('2017-01-01', 74.0), ('2017-01-03', 73.0), ('2017-01-04', 73.0), ('2017-01-05', 71.0), ('2017-01-06', 74.0), ('2017-01-07', 72.0), ('2017-01-08', 74.0), ('2017-01-09', 77.0), ('2017-01-10', 75.0), ('2017-01-12', 81.0), ('2017-01-15', 78.0), ('2017-01-16', 80.0), ('2017-01-18', 75.0), ('2017-01-19', 78.0), ('2017-01-20', 73.0), ('2017-01-21', 74.0), ('2017-01-22', 74.0), ('2017-01-23', 74.0), ('2017-01-24', 74.0), ('2017-01-25', 72.0), ('2017-01-26', 74.0), ('2017-01-27', 74.0), ('2017-01-29', 73.0), ('2017-01-30', 70.0), ('2017-01-31', 70.0), ('2017-02-01', 70.0), ('2017-02-02', 64.0), ('2017-02-03', 62.0), ('2017-02-04', 76.0), ('2017-02-05', 77.0), ('2017-02-06', 76.0), ('2017-02-07', 72.0), ('2017-02-08', 74.0), ('2017-02-09', 60.0), ('2017-02-10', 74.0), ('2017-02-11', 70.0), ('2017-02-12', 73.0), ('2017-02-13', 78.0), ('2017-02-15', 76.0), ('2017-02-16', 72.0), ('2017-02-17', 75.0), ('2017-02-18', 67.0), ('2017-02-20', 71.0), ('2017-02-22', 72.0), ('2017-02-23', 73.0), ('2017-02-24', 70.0), ('2017-02-26', 67.0), ('2017-02-27', 77.0), ('2017-02-28', 73.0), ('2017-03-01', 73.0), ('2017-03-02', 75.0), ('2017-03-03', 74.0), ('2017-03-04', 77.0), ('2017-03-06', 69.0), ('2017-03-09', 70.0), ('2017-03-10', 69.0), ('2017-03-11', 81.0), ('2017-03-12', 74.0), ('2017-03-13', 69.0), ('2017-03-14', 74.0), ('2017-03-15', 71.0), ('2017-03-16', 69.0), ('2017-03-17', 70.0), ('2017-03-18', 74.0), ('2017-03-19', 74.0), ('2017-03-20', 75.0), ('2017-03-21', 75.0), ('2017-03-22', 75.0), ('2017-03-23', 75.0), ('2017-03-24', 76.0), ('2017-03-25', 75.0), ('2017-03-26', 80.0), ('2017-03-27', 76.0), ('2017-03-28', 76.0), ('2017-03-29', 74.0), ('2017-03-30', 78.0), ('2017-03-31', 75.0), ('2017-04-01', 80.0), ('2017-04-02', 79.0), ('2017-04-03', 76.0), ('2017-04-04', 78.0), ('2017-04-05', 77.0), ('2017-04-06', 76.0), ('2017-04-07', 78.0), ('2017-04-09', 74.0), ('2017-04-10', 75.0), ('2017-04-11', 82.0), ('2017-04-12', 80.0), ('2017-04-13', 79.0), ('2017-04-14', 75.0), ('2017-04-15', 79.0), ('2017-04-16', 74.0), ('2017-04-17', 71.0), ('2017-04-18', 76.0), ('2017-04-19', 74.0), ('2017-04-20', 76.0), ('2017-04-21', 70.0), ('2017-04-24', 80.0), ('2017-04-25', 76.0), ('2017-04-26', 81.0), ('2017-04-27', 76.0), ('2017-04-28', 76.0), ('2017-04-29', 70.0), ('2017-04-30', 64.0), ('2017-05-01', 73.0), ('2017-05-02', 78.0), ('2017-05-03', 78.0), ('2017-05-04', 77.0), ('2017-05-05', 79.0), ('2017-05-06', 80.0), ('2017-05-07', 78.0), ('2017-05-08', 80.0), ('2017-05-09', 75.0), ('2017-05-10', 76.0), ('2017-05-11', 78.0), ('2017-05-12', 77.0), ('2017-05-13', 76.0), ('2017-05-14', 78.0), ('2017-05-15', 77.0), ('2017-05-16', 76.0), ('2017-05-17', 77.0), ('2017-05-18', 71.0), ('2017-05-20', 79.0), ('2017-05-21', 80.0), ('2017-05-22', 76.0), ('2017-05-23', 76.0), ('2017-05-24', 76.0), ('2017-05-25', 75.0), ('2017-05-26', 77.0), ('2017-05-27', 79.0), ('2017-05-28', 82.0), ('2017-05-29', 80.0), ('2017-05-30', 78.0), ('2017-05-31', 79.0), ('2017-06-01', 79.0), ('2017-06-02', 81.0), ('2017-06-03', 79.0), ('2017-06-04', 81.0), ('2017-06-05', 78.0), ('2017-06-06', 78.0), ('2017-06-07', 78.0), ('2017-06-08', 77.0), ('2017-06-09', 78.0), ('2017-06-10', 75.0), ('2017-06-11', 81.0), ('2017-06-12', 80.0), ('2017-06-13', 77.0), ('2017-06-14', 80.0), ('2017-06-15', 78.0), ('2017-06-16', 80.0), ('2017-06-17', 77.0), ('2017-06-18', 78.0), ('2017-06-19', 78.0), ('2017-06-21', 80.0), ('2017-06-22', 80.0), ('2017-06-23', 79.0), ('2017-06-24', 82.0), ('2017-06-25', 80.0), ('2017-06-26', 81.0), ('2017-06-27', 81.0), ('2017-06-28', 79.0), ('2017-06-29', 78.0), ('2017-06-30', 75.0), ('2017-07-02', 80.0), ('2017-07-03', 81.0), ('2017-07-05', 80.0), ('2017-07-06', 79.0), ('2017-07-07', 79.0), ('2017-07-08', 77.0), ('2017-07-09', 82.0), ('2017-07-10', 82.0), ('2017-07-11', 79.0), ('2017-07-12', 82.0), ('2017-07-13', 79.0), ('2017-07-14', 80.0), ('2017-07-15', 82.0), ('2017-07-16', 82.0), ('2017-07-17', 82.0), ('2017-07-18', 83.0), ('2017-07-19', 80.0), ('2017-07-20', 80.0), ('2017-07-21', 80.0), ('2017-07-22', 78.0), ('2017-07-24', 79.0), ('2017-07-25', 80.0), ('2017-07-26', 84.0), ('2017-07-27', 80.0), ('2017-07-28', 81.0), ('2017-07-29', 83.0), ('2017-07-30', 84.0), ('2017-07-31', 82.0), ('2017-08-01', 75.0), ('2017-08-02', 83.0), ('2017-08-03', 80.0), ('2017-08-04', 82.0), ('2017-08-06', 83.0), ('2017-08-07', 83.0), ('2017-08-08', 82.0), ('2017-08-10', 80.0), ('2017-08-11', 81.0), ('2017-08-12', 83.0), ('2017-08-13', 84.0), ('2017-08-14', 75.0), ('2017-08-15', 79.0), ('2017-08-16', 79.0), ('2017-08-17', 83.0), ('2017-08-19', 85.0), ('2017-08-21', 82.0), ('2017-08-22', 82.0), ('2017-08-23', 82.0), ('2016-08-23', 77.0), ('2016-08-24', 77.0), ('2016-08-25', 80.0), ('2016-08-26', 80.0), ('2016-08-27', 75.0), ('2016-08-28', 73.0), ('2016-08-29', 78.0), ('2016-08-30', 77.0), ('2016-08-31', 78.0), ('2016-09-01', 80.0), ('2016-09-02', 80.0), ('2016-09-03', 78.0), ('2016-09-04', 78.0), ('2016-09-05', 78.0), ('2016-09-06', 73.0), ('2016-09-07', 74.0), ('2016-09-08', 80.0), ('2016-09-09', 79.0), ('2016-09-10', 77.0), ('2016-09-11', 80.0), ('2016-09-12', 76.0), ('2016-09-13', 79.0), ('2016-09-14', 75.0), ('2016-09-15', 79.0), ('2016-09-16', 78.0), ('2016-09-17', 79.0), ('2016-09-18', 78.0), ('2016-09-19', 78.0), ('2016-09-20', 76.0), ('2016-09-21', 74.0), ('2016-09-22', 77.0), ('2016-09-23', 78.0), ('2016-09-24', 79.0), ('2016-09-25', 79.0), ('2016-09-26', 77.0), ('2016-09-27', 80.0), ('2016-09-28', 78.0), ('2016-09-29', 78.0), ('2016-09-30', 78.0), ('2016-10-01', 77.0), ('2016-10-02', 79.0), ('2016-10-03', 79.0), ('2016-10-04', 79.0), ('2016-10-05', 79.0), ('2016-10-06', 75.0), ('2016-10-07', 76.0), ('2016-10-08', 73.0), ('2016-10-09', 72.0), ('2016-10-10', 71.0), ('2016-10-11', 77.0), ('2016-10-12', 79.0), ('2016-10-13', 78.0), ('2016-10-14', 79.0), ('2016-10-15', 77.0), ('2016-10-16', 79.0), ('2016-10-17', 77.0), ('2016-10-18', 78.0), ('2016-10-19', 78.0), ('2016-10-20', 78.0), ('2016-10-21', 78.0), ('2016-10-22', 77.0), ('2016-10-23', 74.0), ('2016-10-24', 75.0), ('2016-10-25', 76.0), ('2016-10-26', 73.0), ('2016-10-27', 76.0), ('2016-10-28', 74.0), ('2016-10-29', 77.0), ('2016-10-30', 76.0), ('2016-10-31', 76.0), ('2016-11-01', 74.0), ('2016-11-02', 75.0), ('2016-11-03', 75.0), ('2016-11-04', 75.0), ('2016-11-05', 75.0), ('2016-11-06', 71.0), ('2016-11-07', 63.0), ('2016-11-08', 70.0), ('2016-11-09', 68.0), ('2016-11-10', 67.0), ('2016-11-11', 77.0), ('2016-11-12', 74.0), ('2016-11-13', 77.0), ('2016-11-14', 76.0), ('2016-11-15', 76.0), ('2016-11-16', 75.0), ('2016-11-17', 76.0), ('2016-11-18', 75.0), ('2016-11-19', 73.0), ('2016-11-20', 75.0), ('2016-11-21', 73.0), ('2016-11-22', 75.0), ('2016-11-23', 74.0), ('2016-11-24', 75.0), ('2016-11-25', 74.0), ('2016-11-26', 75.0), ('2016-11-27', 73.0), ('2016-11-28', 75.0), ('2016-11-29', 73.0), ('2016-11-30', 73.0), ('2016-12-01', 74.0), ('2016-12-02', 70.0), ('2016-12-03', 72.0), ('2016-12-04', 70.0), ('2016-12-05', 67.0), ('2016-12-06', 67.0), ('2016-12-07', 69.0), ('2016-12-08', 70.0), ('2016-12-09', 68.0), ('2016-12-10', 69.0), ('2016-12-11', 69.0), ('2016-12-12', 66.0), ('2016-12-13', 65.0), ('2016-12-14', 68.0), ('2016-12-15', 62.0), ('2016-12-16', 75.0), ('2016-12-17', 70.0), ('2016-12-18', 69.0), ('2016-12-19', 76.0), ('2016-12-20', 76.0), ('2016-12-21', 74.0), ('2016-12-22', 73.0), ('2016-12-23', 71.0), ('2016-12-24', 74.0), ('2016-12-25', 74.0), ('2016-12-26', 72.0), ('2016-12-27', 71.0), ('2016-12-28', 72.0), ('2016-12-29', 74.0), ('2016-12-30', 69.0), ('2016-12-31', 67.0), ('2017-01-01', 72.0), ('2017-01-02', 70.0), ('2017-01-03', 64.0), ('2017-01-04', 63.0), ('2017-01-05', 63.0), ('2017-01-06', 62.0), ('2017-01-07', 70.0), ('2017-01-08', 70.0), ('2017-01-09', 62.0), ('2017-01-10', 62.0), ('2017-01-11', 63.0), ('2017-01-12', 65.0), ('2017-01-13', 69.0), ('2017-01-14', 77.0), ('2017-01-15', 70.0), ('2017-01-16', 74.0), ('2017-01-17', 69.0), ('2017-01-18', 72.0), ('2017-01-19', 71.0), ('2017-01-20', 69.0), ('2017-01-21', 71.0), ('2017-01-22', 71.0), ('2017-01-23', 72.0), ('2017-01-24', 72.0), ('2017-01-25', 69.0), ('2017-01-26', 70.0), ('2017-01-27', 66.0), ('2017-01-28', 65.0), ('2017-01-29', 69.0), ('2017-01-30', 68.0), ('2017-01-31', 68.0), ('2017-02-01', 68.0), ('2017-02-02', 59.0), ('2017-02-03', 60.0), ('2017-02-04', 70.0), ('2017-02-05', 73.0), ('2017-02-06', 75.0), ('2017-02-07', 64.0), ('2017-02-08', 59.0), ('2017-02-09', 59.0), ('2017-02-10', 62.0), ('2017-02-11', 68.0), ('2017-02-12', 70.0), ('2017-02-13', 73.0), ('2017-02-14', 79.0), ('2017-02-15', 75.0), ('2017-02-16', 65.0), ('2017-02-17', 70.0), ('2017-02-18', 74.0), ('2017-02-19', 70.0), ('2017-02-20', 70.0), ('2017-02-21', 71.0), ('2017-02-22', 71.0), ('2017-02-23', 71.0), ('2017-02-24', 69.0), ('2017-02-25', 61.0), ('2017-02-26', 67.0), ('2017-02-27', 65.0), ('2017-02-28', 72.0), ('2017-03-01', 71.0), ('2017-03-02', 73.0), ('2017-03-03', 72.0), ('2017-03-04', 77.0), ('2017-03-05', 73.0), ('2017-03-06', 67.0), ('2017-03-07', 62.0), ('2017-03-08', 64.0), ('2017-03-09', 67.0), ('2017-03-10', 66.0), ('2017-03-11', 81.0), ('2017-03-12', 69.0), ('2017-03-13', 66.0), ('2017-03-14', 67.0), ('2017-03-15', 69.0), ('2017-03-16', 66.0), ('2017-03-17', 68.0), ('2017-03-18', 65.0), ('2017-03-19', 74.0), ('2017-03-20', 69.0), ('2017-03-21', 72.0), ('2017-03-22', 73.0), ('2017-03-23', 72.0), ('2017-03-24', 71.0), ('2017-03-25', 76.0), ('2017-03-26', 77.0), ('2017-03-27', 76.0), ('2017-03-28', 74.0), ('2017-03-29', 68.0), ('2017-03-30', 73.0), ('2017-03-31', 71.0), ('2017-04-01', 74.0), ('2017-04-02', 75.0), ('2017-04-03', 70.0), ('2017-04-04', 67.0), ('2017-04-05', 71.0), ('2017-04-06', 67.0), ('2017-04-07', 74.0), ('2017-04-08', 77.0), ('2017-04-09', 78.0), ('2017-04-10', 67.0), ('2017-04-11', 70.0), ('2017-04-12', 69.0), ('2017-04-13', 69.0), ('2017-04-14', 74.0), ('2017-04-15', 78.0), ('2017-04-16', 71.0), ('2017-04-17', 67.0), ('2017-04-18', 68.0), ('2017-04-19', 67.0), ('2017-04-20', 76.0), ('2017-04-21', 69.0), ('2017-04-22', 72.0), ('2017-04-23', 76.0), ('2017-04-24', 68.0), ('2017-04-25', 72.0), ('2017-04-26', 74.0), ('2017-04-27', 70.0), ('2017-04-28', 67.0), ('2017-04-29', 72.0), ('2017-04-30', 60.0), ('2017-05-01', 65.0), ('2017-05-02', 75.0), ('2017-05-03', 70.0), ('2017-05-04', 75.0), ('2017-05-05', 70.0), ('2017-05-06', 79.0), ('2017-05-07', 75.0), ('2017-05-08', 70.0), ('2017-05-09', 67.0), ('2017-05-10', 74.0), ('2017-05-11', 70.0), ('2017-05-12', 75.0), ('2017-05-13', 76.0), ('2017-05-14', 77.0), ('2017-05-15', 74.0), ('2017-05-16', 74.0), ('2017-05-17', 74.0), ('2017-05-18', 69.0), ('2017-05-19', 68.0), ('2017-05-20', 76.0), ('2017-05-21', 74.0), ('2017-05-22', 71.0), ('2017-05-23', 71.0), ('2017-05-24', 74.0), ('2017-05-25', 74.0), ('2017-05-26', 74.0), ('2017-05-27', 74.0), ('2017-05-28', 80.0), ('2017-05-29', 74.0), ('2017-05-30', 72.0), ('2017-05-31', 75.0), ('2017-06-01', 80.0), ('2017-06-02', 76.0), ('2017-06-03', 76.0), ('2017-06-04', 77.0), ('2017-06-05', 75.0), ('2017-06-06', 75.0), ('2017-06-07', 75.0), ('2017-06-08', 75.0), ('2017-06-09', 72.0), ('2017-06-10', 74.0), ('2017-06-11', 74.0), ('2017-06-12', 74.0), ('2017-06-13', 76.0), ('2017-06-14', 74.0), ('2017-06-15', 75.0), ('2017-06-16', 73.0), ('2017-06-17', 79.0), ('2017-06-18', 75.0), ('2017-06-19', 72.0), ('2017-06-20', 72.0), ('2017-06-21', 74.0), ('2017-06-22', 72.0), ('2017-06-23', 72.0), ('2017-06-24', 77.0), ('2017-06-25', 71.0), ('2017-06-26', 73.0), ('2017-06-27', 76.0), ('2017-06-28', 77.0), ('2017-06-29', 76.0), ('2017-06-30', 76.0), ('2017-07-01', 79.0), ('2017-07-02', 81.0), ('2017-07-03', 76.0), ('2017-07-04', 78.0), ('2017-07-05', 77.0), ('2017-07-06', 74.0), ('2017-07-07', 75.0), ('2017-07-08', 78.0), ('2017-07-09', 78.0), ('2017-07-10', 69.0), ('2017-07-11', 72.0), ('2017-07-12', 74.0), ('2017-07-13', 74.0), ('2017-07-14', 76.0), ('2017-07-15', 80.0), ('2017-07-16', 80.0), ('2017-07-17', 76.0), ('2017-07-18', 76.0), ('2017-07-19', 76.0), ('2017-07-20', 77.0), ('2017-07-21', 77.0), ('2017-07-22', 77.0), ('2017-07-23', 82.0), ('2017-07-24', 75.0), ('2017-07-25', 77.0), ('2017-07-26', 75.0), ('2017-07-27', 76.0), ('2017-07-28', 81.0), ('2017-07-29', 82.0), ('2017-07-30', 81.0), ('2017-07-31', 76.0), ('2017-08-04', 77.0), ('2017-08-05', 82.0), ('2017-08-06', 83.0), ('2017-08-13', 77.0), ('2017-08-14', 77.0), ('2017-08-15', 77.0), ('2017-08-16', 76.0), ('2017-08-17', 76.0), ('2017-08-18', 79.0), ('2016-08-23', 74.0), ('2016-08-24', 74.0), ('2016-08-25', 77.0), ('2016-08-27', 74.0), ('2016-08-28', 71.0), ('2016-08-29', 78.0), ('2016-08-30', 75.0), ('2016-08-31', 76.0), ('2016-09-01', 77.0), ('2016-09-02', 75.0), ('2016-09-03', 75.0), ('2016-09-04', 73.0), ('2016-09-05', 76.0), ('2016-09-06', 73.0), ('2016-09-07', 74.0), ('2016-09-08', 74.0), ('2016-09-09', 75.0), ('2016-09-10', 75.0), ('2016-09-11', 71.0), ('2016-09-12', 72.0), ('2016-09-13', 75.0), ('2016-09-14', 73.0), ('2016-09-15', 73.0), ('2016-09-16', 73.0), ('2016-09-17', 76.0), ('2016-09-18', 75.0), ('2016-09-19', 70.0), ('2016-09-20', 70.0), ('2016-09-21', 73.0), ('2016-09-22', 73.0), ('2016-09-23', 73.0), ('2016-09-24', 77.0), ('2016-09-25', 76.0), ('2016-09-26', 74.0), ('2016-09-27', 74.0), ('2016-09-28', 77.0), ('2016-09-29', 77.0), ('2016-09-30', 73.0), ('2016-10-01', 74.0), ('2016-10-02', 73.0), ('2016-10-03', 76.0), ('2016-10-04', 74.0), ('2016-10-05', 75.0), ('2016-10-06', 75.0), ('2016-10-07', 73.0), ('2016-10-08', 74.0), ('2016-10-09', 77.0), ('2016-10-10', 74.0), ('2016-10-11', 74.0), ('2016-10-12', 78.0), ('2016-10-13', 75.0), ('2016-10-14', 73.0), ('2016-10-15', 74.0), ('2016-10-16', 77.0), ('2016-10-17', 70.0), ('2016-10-18', 74.0), ('2016-10-19', 70.0), ('2016-10-20', 73.0), ('2016-10-21', 74.0), ('2016-10-22', 75.0), ('2016-10-23', 72.0), ('2016-10-24', 71.0), ('2016-10-25', 74.0), ('2016-10-26', 75.0), ('2016-10-27', 71.0), ('2016-10-28', 68.0), ('2016-10-29', 71.0), ('2016-10-30', 76.0), ('2016-10-31', 69.0), ('2016-11-01', 73.0), ('2016-11-02', 76.0), ('2016-11-03', 74.0), ('2016-11-04', 74.0), ('2016-11-05', 69.0), ('2016-11-06', 77.0), ('2016-11-07', 71.0), ('2016-11-08', 71.0), ('2016-11-09', 71.0), ('2016-11-10', 71.0), ('2016-11-11', 67.0), ('2016-11-12', 73.0), ('2016-11-13', 72.0), ('2016-11-14', 74.0), ('2016-11-15', 72.0), ('2016-11-16', 72.0), ('2016-11-17', 75.0), ('2016-11-20', 74.0), ('2016-11-21', 71.0), ('2016-11-22', 73.0), ('2016-11-23', 69.0), ('2016-11-24', 69.0), ('2016-11-25', 69.0), ('2016-11-26', 70.0), ('2016-11-27', 69.0), ('2016-11-28', 71.0), ('2016-11-29', 67.0), ('2016-11-30', 72.0), ('2016-12-01', 71.0), ('2016-12-02', 71.0), ('2016-12-03', 67.0), ('2016-12-04', 76.0), ('2016-12-05', 67.0), ('2016-12-06', 67.0), ('2016-12-07', 68.0), ('2016-12-08', 71.0), ('2016-12-09', 68.0), ('2016-12-10', 68.0), ('2016-12-11', 69.0), ('2016-12-12', 65.0), ('2016-12-13', 70.0), ('2016-12-14', 69.0), ('2016-12-15', 64.0), ('2016-12-16', 60.0), ('2016-12-18', 67.0), ('2016-12-19', 72.0), ('2016-12-20', 73.0), ('2016-12-21', 70.0), ('2016-12-22', 68.0), ('2016-12-23', 69.0), ('2016-12-24', 69.0), ('2016-12-25', 69.0), ('2016-12-26', 71.0), ('2016-12-27', 71.0), ('2016-12-28', 71.0), ('2016-12-29', 69.0), ('2016-12-30', 65.0), ('2016-12-31', 65.0), ('2017-01-01', 68.0), ('2017-01-02', 70.0), ('2017-01-03', 71.0), ('2017-01-04', 70.0), ('2017-01-05', 71.0), ('2017-01-06', 65.0), ('2017-01-07', 70.0), ('2017-01-08', 66.0), ('2017-01-09', 69.0), ('2017-01-10', 64.0), ('2017-01-11', 66.0), ('2017-01-12', 68.0), ('2017-01-13', 67.0), ('2017-01-14', 70.0), ('2017-01-15', 68.0), ('2017-01-16', 68.0), ('2017-01-17', 69.0), ('2017-01-18', 73.0), ('2017-01-19', 71.0), ('2017-01-20', 67.0), ('2017-01-21', 67.0), ('2017-01-22', 68.0), ('2017-01-23', 70.0), ('2017-01-24', 67.0), ('2017-01-25', 69.0), ('2017-01-26', 67.0), ('2017-01-27', 69.0), ('2017-01-28', 64.0), ('2017-01-29', 67.0), ('2017-01-30', 66.0), ('2017-01-31', 65.0), ('2017-02-01', 65.0), ('2017-02-02', 60.0), ('2017-02-04', 66.0), ('2017-02-05', 69.0), ('2017-02-06', 73.0), ('2017-02-07', 68.0), ('2017-02-08', 68.0), ('2017-02-09', 64.0), ('2017-02-10', 70.0), ('2017-02-11', 66.0), ('2017-02-12', 65.0), ('2017-02-13', 68.0), ('2017-02-14', 79.0), ('2017-02-15', 71.0), ('2017-02-16', 72.0), ('2017-02-18', 72.0), ('2017-02-19', 68.0), ('2017-02-20', 69.0), ('2017-02-21', 65.0), ('2017-02-22', 69.0), ('2017-02-23', 72.0), ('2017-02-24', 68.0), ('2017-02-25', 66.0), ('2017-02-26', 64.0), ('2017-02-27', 69.0), ('2017-02-28', 69.0), ('2017-03-01', 64.0), ('2017-03-02', 72.0), ('2017-03-03', 78.0), ('2017-03-04', 70.0), ('2017-03-05', 68.0), ('2017-03-06', 76.0), ('2017-03-07', 72.0), ('2017-03-08', 68.0), ('2017-03-09', 72.0), ('2017-03-10', 65.0), ('2017-03-11', 82.0), ('2017-03-13', 69.0), ('2017-03-14', 75.0), ('2017-03-15', 76.0), ('2017-03-16', 77.0), ('2017-03-18', 70.0), ('2017-03-19', 74.0), ('2017-03-20', 74.0), ('2017-03-21', 72.0), ('2017-03-22', 72.0), ('2017-03-23', 70.0), ('2017-03-24', 70.0), ('2017-03-25', 72.0), ('2017-03-26', 72.0), ('2017-03-27', 74.0), ('2017-03-28', 69.0), ('2017-03-29', 69.0), ('2017-03-31', 76.0), ('2017-04-01', 69.0), ('2017-04-02', 71.0), ('2017-04-03', 73.0), ('2017-04-04', 75.0), ('2017-04-05', 69.0), ('2017-04-06', 72.0), ('2017-04-08', 76.0), ('2017-04-09', 70.0), ('2017-04-10', 72.0), ('2017-04-11', 71.0), ('2017-04-12', 70.0), ('2017-04-13', 73.0), ('2017-04-14', 72.0), ('2017-04-15', 70.0), ('2017-04-16', 71.0), ('2017-04-17', 69.0), ('2017-04-18', 71.0), ('2017-04-19', 71.0), ('2017-04-20', 69.0), ('2017-04-21', 70.0), ('2017-04-22', 73.0), ('2017-04-23', 70.0), ('2017-04-24', 75.0), ('2017-04-25', 74.0), ('2017-04-26', 77.0), ('2017-04-27', 76.0), ('2017-04-28', 71.0), ('2017-04-29', 68.0), ('2017-04-30', 58.0), ('2017-05-01', 73.0), ('2017-05-02', 79.0), ('2017-05-04', 74.0), ('2017-05-05', 74.0), ('2017-05-06', 74.0), ('2017-05-07', 70.0), ('2017-05-08', 66.0), ('2017-05-09', 72.0), ('2017-05-10', 72.0), ('2017-05-11', 78.0), ('2017-05-12', 70.0), ('2017-05-13', 71.0), ('2017-05-14', 70.0), ('2017-05-15', 72.0), ('2017-05-16', 71.0), ('2017-05-17', 71.0), ('2017-05-18', 69.0), ('2017-05-20', 70.0), ('2017-05-21', 69.0), ('2017-05-22', 72.0), ('2017-05-23', 69.0), ('2017-05-24', 70.0), ('2017-05-25', 75.0), ('2017-05-26', 72.0), ('2017-05-27', 72.0), ('2017-05-28', 73.0), ('2017-05-30', 72.0), ('2017-06-01', 74.0), ('2017-06-03', 74.0), ('2017-06-04', 77.0), ('2017-06-05', 74.0), ('2017-06-06', 74.0), ('2017-06-07', 79.0), ('2017-06-08', 75.0), ('2017-06-10', 72.0), ('2017-06-11', 76.0), ('2017-06-12', 74.0), ('2017-06-13', 73.0), ('2017-06-14', 74.0), ('2017-06-15', 77.0), ('2017-06-16', 74.0), ('2017-06-17', 72.0), ('2017-06-18', 77.0), ('2017-06-19', 76.0), ('2017-06-20', 74.0), ('2017-06-21', 75.0), ('2017-06-22', 76.0), ('2017-06-23', 71.0), ('2017-06-24', 73.0), ('2017-06-25', 79.0), ('2017-06-26', 79.0), ('2017-06-27', 74.0), ('2017-06-28', 74.0), ('2017-06-29', 76.0), ('2017-06-30', 75.0), ('2017-07-01', 74.0), ('2017-07-02', 78.0), ('2017-07-03', 77.0), ('2017-07-04', 77.0), ('2017-07-05', 75.0), ('2017-07-06', 74.0), ('2017-07-07', 74.0), ('2017-07-08', 71.0), ('2017-07-09', 78.0), ('2017-07-10', 77.0), ('2017-07-11', 74.0), ('2017-07-12', 72.0), ('2017-07-13', 77.0), ('2017-07-14', 76.0), ('2017-07-15', 78.0), ('2017-07-16', 75.0), ('2017-07-17', 72.0), ('2017-07-18', 77.0), ('2017-07-19', 74.0), ('2017-07-20', 75.0), ('2017-07-21', 72.0), ('2017-07-22', 72.0), ('2017-07-23', 78.0), ('2017-07-24', 77.0), ('2017-07-25', 79.0), ('2017-07-26', 73.0), ('2017-07-27', 75.0), ('2017-07-28', 73.0), ('2017-07-29', 77.0), ('2017-07-30', 79.0), ('2017-07-31', 74.0), ('2017-08-01', 72.0), ('2017-08-02', 80.0), ('2017-08-03', 76.0), ('2017-08-05', 77.0), ('2017-08-06', 79.0), ('2017-08-07', 78.0), ('2017-08-08', 74.0), ('2017-08-09', 71.0), ('2017-08-10', 75.0), ('2017-08-11', 72.0), ('2017-08-12', 74.0), ('2017-08-13', 80.0), ('2017-08-14', 79.0), ('2017-08-15', 70.0), ('2017-08-16', 71.0), ('2017-08-17', 72.0), ('2017-08-18', 76.0), ('2017-08-19', 71.0), ('2017-08-20', 78.0), ('2017-08-21', 76.0), ('2017-08-22', 76.0), ('2017-08-23', 76.0)]\n"
     ]
    }
   ],
   "source": [
    "# Using the most active station id\n",
    "# Query the last 12 months of temperature observation data for this station and plot the results as a histogram\n",
    "last_year_tobs = session.query(Measurement.date, Measurement.tobs).filter(Measurement.date >= year_from_recent).all()\n",
    "print(last_year_tobs)"
   ]
  },
  {
   "cell_type": "code",
   "execution_count": 21,
   "metadata": {},
   "outputs": [
    {
     "data": {
      "text/html": [
       "<div>\n",
       "<style scoped>\n",
       "    .dataframe tbody tr th:only-of-type {\n",
       "        vertical-align: middle;\n",
       "    }\n",
       "\n",
       "    .dataframe tbody tr th {\n",
       "        vertical-align: top;\n",
       "    }\n",
       "\n",
       "    .dataframe thead th {\n",
       "        text-align: right;\n",
       "    }\n",
       "</style>\n",
       "<table border=\"1\" class=\"dataframe\">\n",
       "  <thead>\n",
       "    <tr style=\"text-align: right;\">\n",
       "      <th></th>\n",
       "      <th>Date</th>\n",
       "      <th>Temperature</th>\n",
       "    </tr>\n",
       "  </thead>\n",
       "  <tbody>\n",
       "    <tr>\n",
       "      <th>0</th>\n",
       "      <td>2016-08-23</td>\n",
       "      <td>81.0</td>\n",
       "    </tr>\n",
       "    <tr>\n",
       "      <th>1</th>\n",
       "      <td>2016-08-24</td>\n",
       "      <td>79.0</td>\n",
       "    </tr>\n",
       "    <tr>\n",
       "      <th>2</th>\n",
       "      <td>2016-08-25</td>\n",
       "      <td>80.0</td>\n",
       "    </tr>\n",
       "    <tr>\n",
       "      <th>3</th>\n",
       "      <td>2016-08-26</td>\n",
       "      <td>79.0</td>\n",
       "    </tr>\n",
       "    <tr>\n",
       "      <th>4</th>\n",
       "      <td>2016-08-27</td>\n",
       "      <td>77.0</td>\n",
       "    </tr>\n",
       "  </tbody>\n",
       "</table>\n",
       "</div>"
      ],
      "text/plain": [
       "         Date  Temperature\n",
       "0  2016-08-23         81.0\n",
       "1  2016-08-24         79.0\n",
       "2  2016-08-25         80.0\n",
       "3  2016-08-26         79.0\n",
       "4  2016-08-27         77.0"
      ]
     },
     "execution_count": 21,
     "metadata": {},
     "output_type": "execute_result"
    }
   ],
   "source": [
    "df_temp = pd.DataFrame(last_year_tobs, columns=['Date', 'Temperature'])\n",
    "df_temp.head()"
   ]
  },
  {
   "cell_type": "code",
   "execution_count": 22,
   "metadata": {},
   "outputs": [
    {
     "data": {
      "text/html": [
       "<div>\n",
       "<style scoped>\n",
       "    .dataframe tbody tr th:only-of-type {\n",
       "        vertical-align: middle;\n",
       "    }\n",
       "\n",
       "    .dataframe tbody tr th {\n",
       "        vertical-align: top;\n",
       "    }\n",
       "\n",
       "    .dataframe thead th {\n",
       "        text-align: right;\n",
       "    }\n",
       "</style>\n",
       "<table border=\"1\" class=\"dataframe\">\n",
       "  <thead>\n",
       "    <tr style=\"text-align: right;\">\n",
       "      <th></th>\n",
       "      <th>Frequency</th>\n",
       "    </tr>\n",
       "    <tr>\n",
       "      <th>Temperature</th>\n",
       "      <th></th>\n",
       "    </tr>\n",
       "  </thead>\n",
       "  <tbody>\n",
       "    <tr>\n",
       "      <th>58.0</th>\n",
       "      <td>1</td>\n",
       "    </tr>\n",
       "    <tr>\n",
       "      <th>59.0</th>\n",
       "      <td>3</td>\n",
       "    </tr>\n",
       "    <tr>\n",
       "      <th>60.0</th>\n",
       "      <td>6</td>\n",
       "    </tr>\n",
       "    <tr>\n",
       "      <th>61.0</th>\n",
       "      <td>4</td>\n",
       "    </tr>\n",
       "    <tr>\n",
       "      <th>62.0</th>\n",
       "      <td>13</td>\n",
       "    </tr>\n",
       "    <tr>\n",
       "      <th>63.0</th>\n",
       "      <td>15</td>\n",
       "    </tr>\n",
       "    <tr>\n",
       "      <th>64.0</th>\n",
       "      <td>23</td>\n",
       "    </tr>\n",
       "    <tr>\n",
       "      <th>65.0</th>\n",
       "      <td>28</td>\n",
       "    </tr>\n",
       "    <tr>\n",
       "      <th>66.0</th>\n",
       "      <td>31</td>\n",
       "    </tr>\n",
       "    <tr>\n",
       "      <th>67.0</th>\n",
       "      <td>54</td>\n",
       "    </tr>\n",
       "    <tr>\n",
       "      <th>68.0</th>\n",
       "      <td>56</td>\n",
       "    </tr>\n",
       "    <tr>\n",
       "      <th>69.0</th>\n",
       "      <td>92</td>\n",
       "    </tr>\n",
       "    <tr>\n",
       "      <th>70.0</th>\n",
       "      <td>110</td>\n",
       "    </tr>\n",
       "    <tr>\n",
       "      <th>71.0</th>\n",
       "      <td>121</td>\n",
       "    </tr>\n",
       "    <tr>\n",
       "      <th>72.0</th>\n",
       "      <td>125</td>\n",
       "    </tr>\n",
       "    <tr>\n",
       "      <th>73.0</th>\n",
       "      <td>117</td>\n",
       "    </tr>\n",
       "    <tr>\n",
       "      <th>74.0</th>\n",
       "      <td>174</td>\n",
       "    </tr>\n",
       "    <tr>\n",
       "      <th>75.0</th>\n",
       "      <td>171</td>\n",
       "    </tr>\n",
       "    <tr>\n",
       "      <th>76.0</th>\n",
       "      <td>210</td>\n",
       "    </tr>\n",
       "    <tr>\n",
       "      <th>77.0</th>\n",
       "      <td>212</td>\n",
       "    </tr>\n",
       "    <tr>\n",
       "      <th>78.0</th>\n",
       "      <td>198</td>\n",
       "    </tr>\n",
       "    <tr>\n",
       "      <th>79.0</th>\n",
       "      <td>158</td>\n",
       "    </tr>\n",
       "    <tr>\n",
       "      <th>80.0</th>\n",
       "      <td>156</td>\n",
       "    </tr>\n",
       "    <tr>\n",
       "      <th>81.0</th>\n",
       "      <td>89</td>\n",
       "    </tr>\n",
       "    <tr>\n",
       "      <th>82.0</th>\n",
       "      <td>42</td>\n",
       "    </tr>\n",
       "    <tr>\n",
       "      <th>83.0</th>\n",
       "      <td>12</td>\n",
       "    </tr>\n",
       "    <tr>\n",
       "      <th>84.0</th>\n",
       "      <td>6</td>\n",
       "    </tr>\n",
       "    <tr>\n",
       "      <th>85.0</th>\n",
       "      <td>1</td>\n",
       "    </tr>\n",
       "    <tr>\n",
       "      <th>87.0</th>\n",
       "      <td>2</td>\n",
       "    </tr>\n",
       "  </tbody>\n",
       "</table>\n",
       "</div>"
      ],
      "text/plain": [
       "             Frequency\n",
       "Temperature           \n",
       "58.0                 1\n",
       "59.0                 3\n",
       "60.0                 6\n",
       "61.0                 4\n",
       "62.0                13\n",
       "63.0                15\n",
       "64.0                23\n",
       "65.0                28\n",
       "66.0                31\n",
       "67.0                54\n",
       "68.0                56\n",
       "69.0                92\n",
       "70.0               110\n",
       "71.0               121\n",
       "72.0               125\n",
       "73.0               117\n",
       "74.0               174\n",
       "75.0               171\n",
       "76.0               210\n",
       "77.0               212\n",
       "78.0               198\n",
       "79.0               158\n",
       "80.0               156\n",
       "81.0                89\n",
       "82.0                42\n",
       "83.0                12\n",
       "84.0                 6\n",
       "85.0                 1\n",
       "87.0                 2"
      ]
     },
     "execution_count": 22,
     "metadata": {},
     "output_type": "execute_result"
    }
   ],
   "source": [
    "temp_count = df_temp.groupby(['Temperature']).count()\n",
    "temp_count = temp_count.rename(columns={'Temperature': 'Temperature','Date': 'Frequency'})\n",
    "temp_count"
   ]
  },
  {
   "cell_type": "markdown",
   "metadata": {},
   "source": [
    "# Close Session"
   ]
  },
  {
   "cell_type": "code",
   "execution_count": 23,
   "metadata": {},
   "outputs": [],
   "source": [
    "# Close Session\n",
    "session.close()"
   ]
  },
  {
   "cell_type": "code",
   "execution_count": null,
   "metadata": {},
   "outputs": [],
   "source": []
  }
 ],
 "metadata": {
  "anaconda-cloud": {},
  "kernel_info": {
   "name": "python3"
  },
  "kernelspec": {
   "display_name": "PythonData",
   "language": "python",
   "name": "pythondata"
  },
  "language_info": {
   "codemirror_mode": {
    "name": "ipython",
    "version": 3
   },
   "file_extension": ".py",
   "mimetype": "text/x-python",
   "name": "python",
   "nbconvert_exporter": "python",
   "pygments_lexer": "ipython3",
   "version": "3.7.13"
  },
  "nteract": {
   "version": "0.12.3"
  },
  "varInspector": {
   "cols": {
    "lenName": 16,
    "lenType": 16,
    "lenVar": 40
   },
   "kernels_config": {
    "python": {
     "delete_cmd_postfix": "",
     "delete_cmd_prefix": "del ",
     "library": "var_list.py",
     "varRefreshCmd": "print(var_dic_list())"
    },
    "r": {
     "delete_cmd_postfix": ") ",
     "delete_cmd_prefix": "rm(",
     "library": "var_list.r",
     "varRefreshCmd": "cat(var_dic_list()) "
    }
   },
   "types_to_exclude": [
    "module",
    "function",
    "builtin_function_or_method",
    "instance",
    "_Feature"
   ],
   "window_display": false
  }
 },
 "nbformat": 4,
 "nbformat_minor": 2
}
